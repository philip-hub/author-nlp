{
 "cells": [
  {
   "cell_type": "code",
   "execution_count": 1,
   "metadata": {},
   "outputs": [
    {
     "name": "stdout",
     "output_type": "stream",
     "text": [
      "Requirement already satisfied: transformers in /Users/philippounds/opt/anaconda3/lib/python3.8/site-packages (4.10.0)\n",
      "Requirement already satisfied: filelock in /Users/philippounds/opt/anaconda3/lib/python3.8/site-packages (from transformers) (3.0.12)\n",
      "Requirement already satisfied: numpy>=1.17 in /Users/philippounds/opt/anaconda3/lib/python3.8/site-packages (from transformers) (1.19.2)\n",
      "Requirement already satisfied: tokenizers<0.11,>=0.10.1 in /Users/philippounds/opt/anaconda3/lib/python3.8/site-packages (from transformers) (0.10.2)\n",
      "Requirement already satisfied: huggingface-hub>=0.0.12 in /Users/philippounds/opt/anaconda3/lib/python3.8/site-packages (from transformers) (0.0.12)\n",
      "Requirement already satisfied: sacremoses in /Users/philippounds/opt/anaconda3/lib/python3.8/site-packages (from transformers) (0.0.45)\n",
      "Requirement already satisfied: tqdm>=4.27 in /Users/philippounds/opt/anaconda3/lib/python3.8/site-packages (from transformers) (4.49.0)\n",
      "Requirement already satisfied: regex!=2019.12.17 in /Users/philippounds/opt/anaconda3/lib/python3.8/site-packages (from transformers) (2020.10.15)\n",
      "Requirement already satisfied: pyyaml>=5.1 in /Users/philippounds/opt/anaconda3/lib/python3.8/site-packages (from transformers) (5.3.1)\n",
      "Requirement already satisfied: packaging in /Users/philippounds/opt/anaconda3/lib/python3.8/site-packages (from transformers) (20.9)\n",
      "Requirement already satisfied: requests in /Users/philippounds/opt/anaconda3/lib/python3.8/site-packages (from transformers) (2.24.0)\n",
      "Requirement already satisfied: typing-extensions in /Users/philippounds/opt/anaconda3/lib/python3.8/site-packages (from huggingface-hub>=0.0.12->transformers) (3.7.4.3)\n",
      "Requirement already satisfied: pyparsing>=2.0.2 in /Users/philippounds/opt/anaconda3/lib/python3.8/site-packages (from packaging->transformers) (2.4.7)\n",
      "Requirement already satisfied: certifi>=2017.4.17 in /Users/philippounds/opt/anaconda3/lib/python3.8/site-packages (from requests->transformers) (2020.6.20)\n",
      "Requirement already satisfied: urllib3!=1.25.0,!=1.25.1,<1.26,>=1.21.1 in /Users/philippounds/opt/anaconda3/lib/python3.8/site-packages (from requests->transformers) (1.25.11)\n",
      "Requirement already satisfied: idna<3,>=2.5 in /Users/philippounds/opt/anaconda3/lib/python3.8/site-packages (from requests->transformers) (2.10)\n",
      "Requirement already satisfied: chardet<4,>=3.0.2 in /Users/philippounds/opt/anaconda3/lib/python3.8/site-packages (from requests->transformers) (3.0.4)\n",
      "Requirement already satisfied: click in /Users/philippounds/opt/anaconda3/lib/python3.8/site-packages (from sacremoses->transformers) (7.1.2)\n",
      "Requirement already satisfied: joblib in /Users/philippounds/opt/anaconda3/lib/python3.8/site-packages (from sacremoses->transformers) (0.17.0)\n",
      "Requirement already satisfied: six in /Users/philippounds/opt/anaconda3/lib/python3.8/site-packages (from sacremoses->transformers) (1.15.0)\n",
      "\u001b[33mWARNING: You are using pip version 21.1.1; however, version 21.2.4 is available.\n",
      "You should consider upgrading via the '/Users/philippounds/opt/anaconda3/bin/python -m pip install --upgrade pip' command.\u001b[0m\n",
      "Requirement already satisfied: transformers in /Users/philippounds/opt/anaconda3/lib/python3.8/site-packages (4.10.0)\n",
      "Requirement already satisfied: huggingface-hub>=0.0.12 in /Users/philippounds/opt/anaconda3/lib/python3.8/site-packages (from transformers) (0.0.12)\n",
      "Requirement already satisfied: packaging in /Users/philippounds/opt/anaconda3/lib/python3.8/site-packages (from transformers) (20.9)\n",
      "Requirement already satisfied: filelock in /Users/philippounds/opt/anaconda3/lib/python3.8/site-packages (from transformers) (3.0.12)\n",
      "Requirement already satisfied: numpy>=1.17 in /Users/philippounds/opt/anaconda3/lib/python3.8/site-packages (from transformers) (1.19.2)\n",
      "Requirement already satisfied: tqdm>=4.27 in /Users/philippounds/opt/anaconda3/lib/python3.8/site-packages (from transformers) (4.49.0)\n",
      "Requirement already satisfied: tokenizers<0.11,>=0.10.1 in /Users/philippounds/opt/anaconda3/lib/python3.8/site-packages (from transformers) (0.10.2)\n",
      "Requirement already satisfied: regex!=2019.12.17 in /Users/philippounds/opt/anaconda3/lib/python3.8/site-packages (from transformers) (2020.10.15)\n",
      "Requirement already satisfied: pyyaml>=5.1 in /Users/philippounds/opt/anaconda3/lib/python3.8/site-packages (from transformers) (5.3.1)\n",
      "Requirement already satisfied: sacremoses in /Users/philippounds/opt/anaconda3/lib/python3.8/site-packages (from transformers) (0.0.45)\n",
      "Requirement already satisfied: requests in /Users/philippounds/opt/anaconda3/lib/python3.8/site-packages (from transformers) (2.24.0)\n",
      "Requirement already satisfied: typing-extensions in /Users/philippounds/opt/anaconda3/lib/python3.8/site-packages (from huggingface-hub>=0.0.12->transformers) (3.7.4.3)\n",
      "Requirement already satisfied: pyparsing>=2.0.2 in /Users/philippounds/opt/anaconda3/lib/python3.8/site-packages (from packaging->transformers) (2.4.7)\n",
      "Requirement already satisfied: urllib3!=1.25.0,!=1.25.1,<1.26,>=1.21.1 in /Users/philippounds/opt/anaconda3/lib/python3.8/site-packages (from requests->transformers) (1.25.11)\n",
      "Requirement already satisfied: chardet<4,>=3.0.2 in /Users/philippounds/opt/anaconda3/lib/python3.8/site-packages (from requests->transformers) (3.0.4)\n",
      "Requirement already satisfied: idna<3,>=2.5 in /Users/philippounds/opt/anaconda3/lib/python3.8/site-packages (from requests->transformers) (2.10)\n",
      "Requirement already satisfied: certifi>=2017.4.17 in /Users/philippounds/opt/anaconda3/lib/python3.8/site-packages (from requests->transformers) (2020.6.20)\n",
      "Requirement already satisfied: click in /Users/philippounds/opt/anaconda3/lib/python3.8/site-packages (from sacremoses->transformers) (7.1.2)\n",
      "Requirement already satisfied: joblib in /Users/philippounds/opt/anaconda3/lib/python3.8/site-packages (from sacremoses->transformers) (0.17.0)\n",
      "Requirement already satisfied: six in /Users/philippounds/opt/anaconda3/lib/python3.8/site-packages (from sacremoses->transformers) (1.15.0)\n",
      "\u001b[33mWARNING: You are using pip version 21.1.1; however, version 21.2.4 is available.\n",
      "You should consider upgrading via the '/Users/philippounds/opt/anaconda3/bin/python -m pip install --upgrade pip' command.\u001b[0m\n",
      "Requirement already satisfied: datasets in /Users/philippounds/opt/anaconda3/lib/python3.8/site-packages (1.7.0)\n",
      "Requirement already satisfied: xxhash in /Users/philippounds/opt/anaconda3/lib/python3.8/site-packages (from datasets) (2.0.2)\n",
      "Requirement already satisfied: dill in /Users/philippounds/opt/anaconda3/lib/python3.8/site-packages (from datasets) (0.3.3)\n",
      "Requirement already satisfied: requests>=2.19.0 in /Users/philippounds/opt/anaconda3/lib/python3.8/site-packages (from datasets) (2.24.0)\n",
      "Requirement already satisfied: fsspec in /Users/philippounds/opt/anaconda3/lib/python3.8/site-packages (from datasets) (0.8.3)\n",
      "Requirement already satisfied: multiprocess in /Users/philippounds/opt/anaconda3/lib/python3.8/site-packages (from datasets) (0.70.11.1)\n",
      "Requirement already satisfied: pyarrow<4.0.0,>=1.0.0 in /Users/philippounds/opt/anaconda3/lib/python3.8/site-packages (from datasets) (3.0.0)\n",
      "Requirement already satisfied: numpy>=1.17 in /Users/philippounds/opt/anaconda3/lib/python3.8/site-packages (from datasets) (1.19.2)\n",
      "Requirement already satisfied: pandas in /Users/philippounds/opt/anaconda3/lib/python3.8/site-packages (from datasets) (1.1.3)\n",
      "Requirement already satisfied: huggingface-hub<0.1.0 in /Users/philippounds/opt/anaconda3/lib/python3.8/site-packages (from datasets) (0.0.12)\n",
      "Requirement already satisfied: packaging in /Users/philippounds/opt/anaconda3/lib/python3.8/site-packages (from datasets) (20.9)\n",
      "Requirement already satisfied: tqdm<4.50.0,>=4.27 in /Users/philippounds/opt/anaconda3/lib/python3.8/site-packages (from datasets) (4.49.0)\n",
      "Requirement already satisfied: typing-extensions in /Users/philippounds/opt/anaconda3/lib/python3.8/site-packages (from huggingface-hub<0.1.0->datasets) (3.7.4.3)\n",
      "Requirement already satisfied: filelock in /Users/philippounds/opt/anaconda3/lib/python3.8/site-packages (from huggingface-hub<0.1.0->datasets) (3.0.12)\n",
      "Requirement already satisfied: pyparsing>=2.0.2 in /Users/philippounds/opt/anaconda3/lib/python3.8/site-packages (from packaging->datasets) (2.4.7)\n",
      "Requirement already satisfied: certifi>=2017.4.17 in /Users/philippounds/opt/anaconda3/lib/python3.8/site-packages (from requests>=2.19.0->datasets) (2020.6.20)\n",
      "Requirement already satisfied: urllib3!=1.25.0,!=1.25.1,<1.26,>=1.21.1 in /Users/philippounds/opt/anaconda3/lib/python3.8/site-packages (from requests>=2.19.0->datasets) (1.25.11)\n",
      "Requirement already satisfied: idna<3,>=2.5 in /Users/philippounds/opt/anaconda3/lib/python3.8/site-packages (from requests>=2.19.0->datasets) (2.10)\n",
      "Requirement already satisfied: chardet<4,>=3.0.2 in /Users/philippounds/opt/anaconda3/lib/python3.8/site-packages (from requests>=2.19.0->datasets) (3.0.4)\n",
      "Requirement already satisfied: python-dateutil>=2.7.3 in /Users/philippounds/opt/anaconda3/lib/python3.8/site-packages (from pandas->datasets) (2.8.1)\n",
      "Requirement already satisfied: pytz>=2017.2 in /Users/philippounds/opt/anaconda3/lib/python3.8/site-packages (from pandas->datasets) (2020.1)\n",
      "Requirement already satisfied: six>=1.5 in /Users/philippounds/opt/anaconda3/lib/python3.8/site-packages (from python-dateutil>=2.7.3->pandas->datasets) (1.15.0)\n",
      "\u001b[33mWARNING: You are using pip version 21.1.1; however, version 21.2.4 is available.\n",
      "You should consider upgrading via the '/Users/philippounds/opt/anaconda3/bin/python -m pip install --upgrade pip' command.\u001b[0m\n",
      "Collecting package metadata (current_repodata.json): failed\n",
      "\n",
      "UnavailableInvalidChannel: The channel is not accessible or is invalid.\n",
      "  channel name: pytorch3\n",
      "  channel url: https://conda.anaconda.org/pytorch3\n",
      "  error code: 404\n",
      "\n",
      "You will need to adjust your conda configuration to proceed.\n",
      "Use `conda config --show channels` to view your configuration's current state,\n",
      "and use `conda config --show-sources` to view config file locations.\n",
      "\n",
      "\n"
     ]
    }
   ],
   "source": [
    "#installing required packages\n",
    "\n",
    "! pip install transformers\n",
    "\n",
    "! pip install --upgrade transformers\n",
    "\n",
    "! pip install datasets\n",
    "\n",
    "! conda install pytorch torchvision torchaudio cpuonly -c pytorch3"
   ]
  },
  {
   "cell_type": "code",
   "execution_count": 3,
   "metadata": {},
   "outputs": [],
   "source": [
    "import glob\n",
    "\n",
    "import numpy as np\n",
    "import pandas as pd\n",
    "from sklearn.model_selection import train_test_split\n",
    "\n",
    "from datasets import load_dataset, load_metric, Dataset\n",
    "from transformers import pipeline, AutoTokenizer, AutoModelForSequenceClassification, TrainingArguments, Trainer\n",
    "import torch\n",
    "\n",
    "\n",
    "import random"
   ]
  },
  {
   "cell_type": "code",
   "execution_count": 46,
   "metadata": {},
   "outputs": [
    {
     "data": {
      "text/html": [
       "<div>\n",
       "<style scoped>\n",
       "    .dataframe tbody tr th:only-of-type {\n",
       "        vertical-align: middle;\n",
       "    }\n",
       "\n",
       "    .dataframe tbody tr th {\n",
       "        vertical-align: top;\n",
       "    }\n",
       "\n",
       "    .dataframe thead th {\n",
       "        text-align: right;\n",
       "    }\n",
       "</style>\n",
       "<table border=\"1\" class=\"dataframe\">\n",
       "  <thead>\n",
       "    <tr style=\"text-align: right;\">\n",
       "      <th></th>\n",
       "      <th>text</th>\n",
       "      <th>label</th>\n",
       "      <th>filename</th>\n",
       "      <th>split</th>\n",
       "    </tr>\n",
       "  </thead>\n",
       "  <tbody>\n",
       "    <tr>\n",
       "      <th>0</th>\n",
       "      <td>SHOUTS &amp; MURMURS about the author's memories o...</td>\n",
       "      <td>profile</td>\n",
       "      <td>SILK PARACHUTE</td>\n",
       "      <td>0</td>\n",
       "    </tr>\n",
       "    <tr>\n",
       "      <th>1</th>\n",
       "      <td>Block. It puts some writers down for months. I...</td>\n",
       "      <td>nonprofile</td>\n",
       "      <td>Draft No. 4</td>\n",
       "      <td>0</td>\n",
       "    </tr>\n",
       "    <tr>\n",
       "      <th>2</th>\n",
       "      <td>Do I remember when I had my first drink? Absol...</td>\n",
       "      <td>nonprofile</td>\n",
       "      <td>Dah Dah Doo Dah Dah Dah Dah Dah Doo Dah La Ti ...</td>\n",
       "      <td>0</td>\n",
       "    </tr>\n",
       "    <tr>\n",
       "      <th>3</th>\n",
       "      <td>At a reception in Castine, Maine, years ago, I...</td>\n",
       "      <td>nonprofile</td>\n",
       "      <td>Phi Beta Football</td>\n",
       "      <td>0</td>\n",
       "    </tr>\n",
       "    <tr>\n",
       "      <th>4</th>\n",
       "      <td>Fishing from a canoe in the Delaware River, I ...</td>\n",
       "      <td>nonprofile</td>\n",
       "      <td>Direct Eye Contact</td>\n",
       "      <td>0</td>\n",
       "    </tr>\n",
       "  </tbody>\n",
       "</table>\n",
       "</div>"
      ],
      "text/plain": [
       "                                                text       label  \\\n",
       "0  SHOUTS & MURMURS about the author's memories o...     profile   \n",
       "1  Block. It puts some writers down for months. I...  nonprofile   \n",
       "2  Do I remember when I had my first drink? Absol...  nonprofile   \n",
       "3  At a reception in Castine, Maine, years ago, I...  nonprofile   \n",
       "4  Fishing from a canoe in the Delaware River, I ...  nonprofile   \n",
       "\n",
       "                                            filename  split  \n",
       "0                                     SILK PARACHUTE      0  \n",
       "1                                        Draft No. 4      0  \n",
       "2  Dah Dah Doo Dah Dah Dah Dah Dah Doo Dah La Ti ...      0  \n",
       "3                                  Phi Beta Football      0  \n",
       "4                                 Direct Eye Contact      0  "
      ]
     },
     "metadata": {},
     "output_type": "display_data"
    },
    {
     "name": "stdout",
     "output_type": "stream",
     "text": [
      "(7, 4)\n"
     ]
    }
   ],
   "source": [
    "fileList = []\n",
    "\n",
    "for i in range(7):\n",
    "    file = \"\"\n",
    "    x = i+1\n",
    "    file = open(\"data/text\"+str(x)+\".txt\",\"r\")\n",
    "    file = file.read()\n",
    "    fileList.append(file)\n",
    "    \n",
    "\n",
    "    \n",
    "\n",
    "df = data = {'text':  [fileList[0], fileList[1],fileList[2], fileList[3], fileList[4], fileList[5], fileList[6]],\n",
    "        'label': ['profile', 'nonprofile', 'nonprofile','nonprofile', 'nonprofile', 'nonprofile', 'profile'],\n",
    "        'filename':  ['SILK PARACHUTE', 'Draft No. 4', 'Dah Dah Doo Dah Dah Dah Dah Dah Doo Dah La Ti Mi Fa La So Fa Mi', 'Phi Beta Football', 'Direct Eye Contact', 'The Orange Trapper', 'The Patch']\n",
    "         }\n",
    "\n",
    "full_df = pd.DataFrame (df, columns = ['text','label', 'filename'])\n",
    "\n",
    "\n",
    "label_dict = {0:'profile', 1:'nonprofile'}\n",
    "\n",
    "splits = [0]*6 + [1]*1\n",
    "full_df['split'] = pd.Series(splits).sample(frac=1, random_state=2323).reset_index(drop=True)\n",
    "display(full_df.head())\n",
    "\n",
    "print(full_df.shape)"
   ]
  },
  {
   "cell_type": "code",
   "execution_count": 47,
   "metadata": {},
   "outputs": [
    {
     "data": {
      "application/vnd.jupyter.widget-view+json": {
       "model_id": "6803b90a6cd544c98fd000b7d87e68db",
       "version_major": 2,
       "version_minor": 0
      },
      "text/plain": [
       "HBox(children=(FloatProgress(value=0.0, description='Downloading', max=200.0, style=ProgressStyle(description_…"
      ]
     },
     "metadata": {},
     "output_type": "display_data"
    },
    {
     "name": "stdout",
     "output_type": "stream",
     "text": [
      "\n"
     ]
    },
    {
     "data": {
      "application/vnd.jupyter.widget-view+json": {
       "model_id": "f34e67359ca5495facfa3491784bb574",
       "version_major": 2,
       "version_minor": 0
      },
      "text/plain": [
       "HBox(children=(FloatProgress(value=0.0, description='Downloading', max=798156.0, style=ProgressStyle(descripti…"
      ]
     },
     "metadata": {},
     "output_type": "display_data"
    },
    {
     "name": "stdout",
     "output_type": "stream",
     "text": [
      "\n"
     ]
    },
    {
     "data": {
      "application/vnd.jupyter.widget-view+json": {
       "model_id": "d601de3adfed45d386f1549208134baa",
       "version_major": 2,
       "version_minor": 0
      },
      "text/plain": [
       "HBox(children=(FloatProgress(value=0.0, description='Downloading', max=456356.0, style=ProgressStyle(descripti…"
      ]
     },
     "metadata": {},
     "output_type": "display_data"
    },
    {
     "name": "stdout",
     "output_type": "stream",
     "text": [
      "\n"
     ]
    },
    {
     "data": {
      "application/vnd.jupyter.widget-view+json": {
       "model_id": "13eaf1fb1099474bbe4ffd9f1f7bd027",
       "version_major": 2,
       "version_minor": 0
      },
      "text/plain": [
       "HBox(children=(FloatProgress(value=0.0, description='Downloading', max=90.0, style=ProgressStyle(description_w…"
      ]
     },
     "metadata": {},
     "output_type": "display_data"
    },
    {
     "name": "stdout",
     "output_type": "stream",
     "text": [
      "\n"
     ]
    },
    {
     "data": {
      "text/plain": [
       "'EleutherAI/gpt-neo-2.7B'"
      ]
     },
     "execution_count": 47,
     "metadata": {},
     "output_type": "execute_result"
    }
   ],
   "source": [
    "# tokenizer = AutoTokenizer.from_pretrained(\"bert-base-cased\")\n",
    "tokenizer = AutoTokenizer.from_pretrained(\"EleutherAI/gpt-neo-2.7B\")\n",
    "tokenizer.name_or_path"
   ]
  },
  {
   "cell_type": "code",
   "execution_count": 51,
   "metadata": {},
   "outputs": [],
   "source": [
    "train_encodings = tokenizer(full_df.query('split==0')['text'].tolist(), truncation=True)\n",
    "val_encodings = tokenizer(full_df.query('split==1')['text'].tolist(), truncation=True)"
   ]
  },
  {
   "cell_type": "code",
   "execution_count": 52,
   "metadata": {},
   "outputs": [
    {
     "name": "stdout",
     "output_type": "stream",
     "text": [
      "2\n"
     ]
    }
   ],
   "source": [
    "no_classes = len(full_df.query('split==0')['label'].unique())\n",
    "\n",
    "print(no_classes)\n",
    "train_classes = [label_dict[class_ind] for class_ind in range(no_classes)]"
   ]
  },
  {
   "cell_type": "code",
   "execution_count": 53,
   "metadata": {},
   "outputs": [],
   "source": [
    "#Create custom Datasets Class\n",
    "class ArticlesDataset(torch.utils.data.Dataset):\n",
    "    def __init__(self, encodings, label):\n",
    "        self.encodings = encodings\n",
    "        self.labels = label\n",
    "\n",
    "    def __getitem__(self, idx):\n",
    "        item = {key: torch.tensor(val[idx]) for key, val in self.encodings.items()}\n",
    "        item['label'] = torch.tensor(self.labels[idx])\n",
    "        return item\n",
    "\n",
    "    def __len__(self):\n",
    "        return len(self.labels)\n",
    "\n",
    "#Create datasets from encodings\n",
    "train_dataset = ArticlesDataset(train_encodings, full_df.query('split==0')['label'].tolist())\n",
    "val_dataset = ArticlesDataset(val_encodings, full_df.query('split==1')['label'].tolist())"
   ]
  },
  {
   "cell_type": "code",
   "execution_count": null,
   "metadata": {},
   "outputs": [
    {
     "data": {
      "application/vnd.jupyter.widget-view+json": {
       "model_id": "70c50d7522104edaa26bfd5633b509d8",
       "version_major": 2,
       "version_minor": 0
      },
      "text/plain": [
       "HBox(children=(FloatProgress(value=0.0, description='Downloading', max=10672498931.0, style=ProgressStyle(desc…"
      ]
     },
     "metadata": {},
     "output_type": "display_data"
    }
   ],
   "source": [
    "#model = AutoModelForSequenceClassification.from_pretrained(\"bert-base-cased\", id2label=label_dict, num_labels=2)\n",
    "model = AutoModelForSequenceClassification.from_pretrained(\"EleutherAI/gpt-neo-2.7B\", id2label=label_dict, num_labels=2)\n",
    "model.name_or_path"
   ]
  },
  {
   "cell_type": "code",
   "execution_count": null,
   "metadata": {},
   "outputs": [],
   "source": [
    "training_args = TrainingArguments(\"test_trainer\",\n",
    "                                 logging_strategy='epoch')\n",
    "training_args"
   ]
  },
  {
   "cell_type": "code",
   "execution_count": null,
   "metadata": {},
   "outputs": [],
   "source": [
    "metric = load_metric(\"accuracy\")\n",
    "\n",
    "def compute_metrics(eval_pred):\n",
    "    logits, labels = eval_pred\n",
    "    predictions = np.argmax(logits, axis=-1)\n",
    "    return metric.compute(predictions=predictions, references=labels)"
   ]
  },
  {
   "cell_type": "code",
   "execution_count": null,
   "metadata": {},
   "outputs": [],
   "source": [
    "trainer.evaluate(train_dataset)"
   ]
  },
  {
   "cell_type": "code",
   "execution_count": null,
   "metadata": {},
   "outputs": [],
   "source": [
    "trainer.evaluate(val_dataset)"
   ]
  },
  {
   "cell_type": "code",
   "execution_count": null,
   "metadata": {},
   "outputs": [],
   "source": [
    "trainer.predict(train_dataset)"
   ]
  },
  {
   "cell_type": "code",
   "execution_count": null,
   "metadata": {},
   "outputs": [],
   "source": [
    "trainer.evaluate(val_dataset)"
   ]
  },
  {
   "cell_type": "code",
   "execution_count": null,
   "metadata": {},
   "outputs": [],
   "source": [
    "trainer.save_model('mcphee-writing-gpt2.7')"
   ]
  },
  {
   "cell_type": "code",
   "execution_count": null,
   "metadata": {},
   "outputs": [],
   "source": [
    "from transformers import pipeline\n",
    "\n",
    "mag_classifier = pipeline( task='text-generation', model='mcphee-writing-gpt2.7')\n",
    "\n",
    "max_tok_len = 512 #mag_classifier.tokenizer.max_model_input_sizes[tokenizer.name_or_path]\n",
    "#mag_classifier(full_df['text'].tolist())\n",
    "\n",
    "res = mag_classifier([text[:max_tok_len] for text in full_df['text'].tolist()])"
   ]
  },
  {
   "cell_type": "code",
   "execution_count": null,
   "metadata": {},
   "outputs": [],
   "source": []
  }
 ],
 "metadata": {
  "kernelspec": {
   "display_name": "Python 3",
   "language": "python",
   "name": "python3"
  },
  "language_info": {
   "codemirror_mode": {
    "name": "ipython",
    "version": 3
   },
   "file_extension": ".py",
   "mimetype": "text/x-python",
   "name": "python",
   "nbconvert_exporter": "python",
   "pygments_lexer": "ipython3",
   "version": "3.8.5"
  }
 },
 "nbformat": 4,
 "nbformat_minor": 4
}
